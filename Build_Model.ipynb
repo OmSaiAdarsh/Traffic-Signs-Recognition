{
 "cells": [
  {
   "cell_type": "code",
   "execution_count": 1,
   "metadata": {
    "scrolled": true
   },
   "outputs": [],
   "source": [
    "import numpy as np\n",
    "import pandas as pd\n",
    "import matplotlib.pyplot as plt\n",
    "import tensorflow as tf\n",
    "from PIL import Image\n",
    "import os\n",
    "from sklearn.model_selection import train_test_split\n",
    "from keras.utils import to_categorical\n",
    "from keras.models import Sequential\n",
    "from keras.layers import Conv2D,MaxPool2D,Dense,Flatten,Dropout"
   ]
  },
  {
   "cell_type": "code",
   "execution_count": 2,
   "metadata": {},
   "outputs": [],
   "source": [
    "data=[]\n",
    "labels=[]\n",
    "classes=43\n",
    "#cur_path=os.getcwd()\n",
    "cur_path='D:\\Project-Traffic Signs Recognition'"
   ]
  },
  {
   "cell_type": "code",
   "execution_count": 3,
   "metadata": {},
   "outputs": [],
   "source": [
    "for i in range(classes):\n",
    "    path=os.path.join(cur_path,'train',str(i))\n",
    "    images=os.listdir(path)\n",
    "    \n",
    "    for a in images:\n",
    "        try:\n",
    "            image=Image.open(path+'\\\\'+a)\n",
    "            image=image.resize((30,30))\n",
    "            image=np.array(image)\n",
    "            data.append(image)\n",
    "            labels.append(i)\n",
    "        except:\n",
    "            print(\"Error loading Data\")"
   ]
  },
  {
   "cell_type": "code",
   "execution_count": 4,
   "metadata": {},
   "outputs": [
    {
     "name": "stdout",
     "output_type": "stream",
     "text": [
      "(39209, 30, 30, 3) (39209,)\n"
     ]
    }
   ],
   "source": [
    "data=np.array(data)\n",
    "labels=np.array(labels)\n",
    "print(data.shape,labels.shape)"
   ]
  },
  {
   "cell_type": "code",
   "execution_count": 5,
   "metadata": {},
   "outputs": [
    {
     "name": "stdout",
     "output_type": "stream",
     "text": [
      "(31367, 30, 30, 3) (7842, 30, 30, 3) (31367,) (7842,)\n"
     ]
    }
   ],
   "source": [
    "X_train,X_test,y_train,y_test=train_test_split(data,labels,test_size=0.2,random_state=42)\n",
    "print(X_train.shape,X_test.shape,y_train.shape,y_test.shape)\n",
    "y_train=to_categorical(y_train,43)\n",
    "y_test=to_categorical(y_test,43)"
   ]
  },
  {
   "cell_type": "code",
   "execution_count": 8,
   "metadata": {},
   "outputs": [],
   "source": [
    "model = Sequential()\n",
    "model.add(Conv2D(filters=32, kernel_size=(5,5), activation='relu', input_shape=X_train.shape[1:]))\n",
    "model.add(Conv2D(filters=32, kernel_size=(5,5), activation='relu'))\n",
    "model.add(MaxPool2D(pool_size=(2, 2)))\n",
    "model.add(Dropout(rate=0.25))\n",
    "model.add(Conv2D(filters=64, kernel_size=(3, 3), activation='relu'))\n",
    "model.add(Conv2D(filters=64, kernel_size=(3, 3), activation='relu'))\n",
    "model.add(MaxPool2D(pool_size=(2, 2)))\n",
    "model.add(Dropout(rate=0.25))\n",
    "model.add(Flatten())\n",
    "model.add(Dense(256, activation='relu'))\n",
    "model.add(Dropout(rate=0.5))\n",
    "model.add(Dense(43, activation='softmax'))\n",
    "model.compile(loss='categorical_crossentropy', optimizer='adam', metrics=['accuracy'])"
   ]
  },
  {
   "cell_type": "code",
   "execution_count": 9,
   "metadata": {},
   "outputs": [
    {
     "name": "stdout",
     "output_type": "stream",
     "text": [
      "Epoch 1/15\n",
      "981/981 [==============================] - 93s 94ms/step - loss: 3.6939 - accuracy: 0.3011 - val_loss: 0.6536 - val_accuracy: 0.8381\n",
      "Epoch 2/15\n",
      "981/981 [==============================] - 85s 86ms/step - loss: 0.9099 - accuracy: 0.7355 - val_loss: 0.2919 - val_accuracy: 0.9105\n",
      "Epoch 3/15\n",
      "981/981 [==============================] - 89s 91ms/step - loss: 0.6192 - accuracy: 0.8158 - val_loss: 0.2490 - val_accuracy: 0.9274\n",
      "Epoch 4/15\n",
      "981/981 [==============================] - 97s 99ms/step - loss: 0.4848 - accuracy: 0.8588 - val_loss: 0.2360 - val_accuracy: 0.9339\n",
      "Epoch 5/15\n",
      "981/981 [==============================] - 90s 91ms/step - loss: 0.3791 - accuracy: 0.8931 - val_loss: 0.1253 - val_accuracy: 0.9666\n",
      "Epoch 6/15\n",
      "981/981 [==============================] - 77s 79ms/step - loss: 0.3224 - accuracy: 0.9113 - val_loss: 0.0964 - val_accuracy: 0.9749\n",
      "Epoch 7/15\n",
      "981/981 [==============================] - 75s 77ms/step - loss: 0.2852 - accuracy: 0.9158 - val_loss: 0.0900 - val_accuracy: 0.9778\n",
      "Epoch 8/15\n",
      "981/981 [==============================] - 87s 89ms/step - loss: 0.2589 - accuracy: 0.9269 - val_loss: 0.0765 - val_accuracy: 0.9773\n",
      "Epoch 9/15\n",
      "981/981 [==============================] - 85s 87ms/step - loss: 0.2387 - accuracy: 0.9361 - val_loss: 0.0777 - val_accuracy: 0.9801\n",
      "Epoch 10/15\n",
      "981/981 [==============================] - 79s 80ms/step - loss: 0.2537 - accuracy: 0.9320 - val_loss: 0.1143 - val_accuracy: 0.9662\n",
      "Epoch 11/15\n",
      "981/981 [==============================] - 83s 84ms/step - loss: 0.2352 - accuracy: 0.9362 - val_loss: 0.0575 - val_accuracy: 0.9847\n",
      "Epoch 12/15\n",
      "981/981 [==============================] - 80s 81ms/step - loss: 0.2388 - accuracy: 0.9385 - val_loss: 0.0709 - val_accuracy: 0.9795\n",
      "Epoch 13/15\n",
      "981/981 [==============================] - 85s 86ms/step - loss: 0.2145 - accuracy: 0.9430 - val_loss: 0.0620 - val_accuracy: 0.9843\n",
      "Epoch 14/15\n",
      "981/981 [==============================] - 82s 84ms/step - loss: 0.2247 - accuracy: 0.9432 - val_loss: 0.0432 - val_accuracy: 0.9901\n",
      "Epoch 15/15\n",
      "981/981 [==============================] - 75s 76ms/step - loss: 0.2300 - accuracy: 0.9416 - val_loss: 0.0627 - val_accuracy: 0.9852\n"
     ]
    }
   ],
   "source": [
    "epochs = 15\n",
    "history = model.fit(X_train, y_train, batch_size=32, epochs=epochs, validation_data=(X_test, y_test))"
   ]
  },
  {
   "cell_type": "code",
   "execution_count": 10,
   "metadata": {},
   "outputs": [],
   "source": [
    "model.save(\"my_model.h5\")"
   ]
  },
  {
   "cell_type": "code",
   "execution_count": 12,
   "metadata": {},
   "outputs": [
    {
     "data": {
      "image/png": "[encoded data removed]",
      "text/plain": [
       "<Figure size 432x288 with 1 Axes>"
      ]
     },
     "metadata": {
      "needs_background": "light"
     },
     "output_type": "display_data"
    }
   ],
   "source": [
    "plt.figure(0)\n",
    "plt.plot(history.history['accuracy'], label='training accuracy')\n",
    "plt.plot(history.history['val_accuracy'], label='val accuracy')\n",
    "plt.title('Accuracy')\n",
    "plt.xlabel('epochs')\n",
    "plt.ylabel('accuracy')\n",
    "plt.legend()\n",
    "plt.show()"
   ]
  },
  {
   "cell_type": "code",
   "execution_count": 33,
   "metadata": {},
   "outputs": [
    {
     "data": {
      "image/png": "[encoded data removed]",
      "text/plain": [
       "<Figure size 432x288 with 1 Axes>"
      ]
     },
     "metadata": {
      "needs_background": "light"
     },
     "output_type": "display_data"
    }
   ],
   "source": [
    "plt.figure(1)\n",
    "plt.plot(history.history['loss'], label='training loss')\n",
    "plt.plot(history.history['val_loss'], label='val loss')\n",
    "plt.title('Loss')\n",
    "plt.xlabel('epochs')\n",
    "plt.ylabel('loss')\n",
    "plt.legend()\n",
    "plt.show()"
   ]
  },
  {
   "cell_type": "code",
   "execution_count": 35,
   "metadata": {},
   "outputs": [],
   "source": [
    "from sklearn.metrics import accuracy_score\n",
    "#\n",
    "#print(cur_path,path)\n",
    "#print(\"D:\\Project-Traffic Signs Recognition\\Test\")\n",
    "path=os.path.join(cur_path,'Test.csv')\n",
    "y_test = pd.read_csv(path)\n",
    "labels = y_test[\"ClassId\"].values\n",
    "imgs = y_test[\"Path\"].values\n",
    "data=[]\n",
    "cur_path+='/'\n",
    "for img in imgs:\n",
    "    image = Image.open(cur_path+img)\n",
    "    image = image.resize((30,30))\n",
    "    data.append(np.array(image))\n",
    "X_test=np.array(data)\n",
    "pred = np.argmax(model.predict(X_test),axis=-1)\n",
    "#pred = model.predict_classes(X_test)"
   ]
  },
  {
   "cell_type": "code",
   "execution_count": 36,
   "metadata": {},
   "outputs": [
    {
     "name": "stdout",
     "output_type": "stream",
     "text": [
      "0.956215360253365\n"
     ]
    }
   ],
   "source": [
    "from sklearn.metrics import accuracy_score\n",
    "print(accuracy_score(labels, pred))"
   ]
  },
  {
   "cell_type": "code",
   "execution_count": 37,
   "metadata": {},
   "outputs": [],
   "source": [
    "model.save('traffic_classifier.h5')"
   ]
  },
  {
   "cell_type": "code",
   "execution_count": null,
   "metadata": {},
   "outputs": [],
   "source": []
  }
 ],
 "metadata": {
  "kernelspec": {
   "display_name": "Python 3",
   "language": "python",
   "name": "python3"
  },
  "language_info": {
   "codemirror_mode": {
    "name": "ipython",
    "version": 3
   },
   "file_extension": ".py",
   "mimetype": "text/x-python",
   "name": "python",
   "nbconvert_exporter": "python",
   "pygments_lexer": "ipython3",
   "version": "3.7.4"
  }
 },
 "nbformat": 4,
 "nbformat_minor": 4
}
